{
 "cells": [
  {
   "cell_type": "code",
   "execution_count": 46,
   "metadata": {},
   "outputs": [],
   "source": [
    "import pandas as pd\n",
    "import numpy as np\n",
    "from datetime import datetime\n",
    "\n",
    "import os\n",
    "\n",
    "from icalendar import Calendar, Event\n",
    "import pytz"
   ]
  },
  {
   "cell_type": "code",
   "execution_count": 3,
   "metadata": {},
   "outputs": [],
   "source": [
    "try:\n",
    "    os.mkdir('data')\n",
    "except FileExistsError:\n",
    "    print('data directory already exists')"
   ]
  },
  {
   "cell_type": "code",
   "execution_count": 51,
   "metadata": {},
   "outputs": [],
   "source": [
    "data = pd.read_csv('data/timetable.csv')"
   ]
  },
  {
   "cell_type": "code",
   "execution_count": 35,
   "metadata": {},
   "outputs": [
    {
     "data": {
      "text/html": [
       "<div>\n",
       "<style scoped>\n",
       "    .dataframe tbody tr th:only-of-type {\n",
       "        vertical-align: middle;\n",
       "    }\n",
       "\n",
       "    .dataframe tbody tr th {\n",
       "        vertical-align: top;\n",
       "    }\n",
       "\n",
       "    .dataframe thead th {\n",
       "        text-align: right;\n",
       "    }\n",
       "</style>\n",
       "<table border=\"1\" class=\"dataframe\">\n",
       "  <thead>\n",
       "    <tr style=\"text-align: right;\">\n",
       "      <th></th>\n",
       "      <th>date</th>\n",
       "      <th>room</th>\n",
       "      <th>time</th>\n",
       "      <th>group</th>\n",
       "      <th>class</th>\n",
       "      <th>session</th>\n",
       "      <th>tutor</th>\n",
       "    </tr>\n",
       "  </thead>\n",
       "  <tbody>\n",
       "    <tr>\n",
       "      <th>0</th>\n",
       "      <td>2025-03-10</td>\n",
       "      <td>LI6</td>\n",
       "      <td>09:00-10:30</td>\n",
       "      <td>1i</td>\n",
       "      <td>Conference</td>\n",
       "      <td>2.0</td>\n",
       "      <td>MS/KA</td>\n",
       "    </tr>\n",
       "    <tr>\n",
       "      <th>1</th>\n",
       "      <td>2025-03-10</td>\n",
       "      <td>LI6</td>\n",
       "      <td>10:45-12:15</td>\n",
       "      <td>1i</td>\n",
       "      <td>Conference</td>\n",
       "      <td>2.0</td>\n",
       "      <td>MS/KA</td>\n",
       "    </tr>\n",
       "    <tr>\n",
       "      <th>2</th>\n",
       "      <td>2025-03-10</td>\n",
       "      <td>LI6</td>\n",
       "      <td>12:45-14:15</td>\n",
       "      <td>1ii</td>\n",
       "      <td>Conference</td>\n",
       "      <td>2.0</td>\n",
       "      <td>MS</td>\n",
       "    </tr>\n",
       "    <tr>\n",
       "      <th>3</th>\n",
       "      <td>2025-03-10</td>\n",
       "      <td>LI6</td>\n",
       "      <td>14:30-16:00</td>\n",
       "      <td>1ii</td>\n",
       "      <td>Conference</td>\n",
       "      <td>2.0</td>\n",
       "      <td>MS</td>\n",
       "    </tr>\n",
       "    <tr>\n",
       "      <th>4</th>\n",
       "      <td>2025-03-10</td>\n",
       "      <td>LI7</td>\n",
       "      <td>09:00-10:30</td>\n",
       "      <td>2i</td>\n",
       "      <td>Conference</td>\n",
       "      <td>2.0</td>\n",
       "      <td>SS</td>\n",
       "    </tr>\n",
       "  </tbody>\n",
       "</table>\n",
       "</div>"
      ],
      "text/plain": [
       "         date room         time group       class  session  tutor\n",
       "0  2025-03-10  LI6  09:00-10:30    1i  Conference      2.0  MS/KA\n",
       "1  2025-03-10  LI6  10:45-12:15    1i  Conference      2.0  MS/KA\n",
       "2  2025-03-10  LI6  12:45-14:15   1ii  Conference      2.0     MS\n",
       "3  2025-03-10  LI6  14:30-16:00   1ii  Conference      2.0     MS\n",
       "4  2025-03-10  LI7  09:00-10:30    2i  Conference      2.0     SS"
      ]
     },
     "execution_count": 35,
     "metadata": {},
     "output_type": "execute_result"
    }
   ],
   "source": [
    "data.head()"
   ]
  },
  {
   "cell_type": "code",
   "execution_count": 36,
   "metadata": {},
   "outputs": [],
   "source": [
    "data['date'] = pd.to_datetime(data['date'])"
   ]
  },
  {
   "cell_type": "code",
   "execution_count": 52,
   "metadata": {},
   "outputs": [],
   "source": [
    "toby_sched = data[data['group'].isin(['9', '9A', '9ii'])].sort_values(by=['date', 'time'])"
   ]
  },
  {
   "cell_type": "code",
   "execution_count": 53,
   "metadata": {},
   "outputs": [],
   "source": [
    "def csv_to_ics(csv_input, output_file=\"timetable.ics\"):\n",
    "    \"\"\"\n",
    "    Convert a CSV timetable to an ICS (iCalendar) file.\n",
    "    \n",
    "    Parameters:\n",
    "    - csv_input: Path to CSV file (str) or pandas DataFrame\n",
    "    - output_file: Path to save the ICS file (default: \"timetable.ics\")\n",
    "    \"\"\"\n",
    "    # Load CSV into DataFrame if a file path is provided\n",
    "    if isinstance(csv_input, str):\n",
    "        df = pd.read_csv(csv_input)\n",
    "    elif isinstance(csv_input, pd.DataFrame):\n",
    "        df = csv_input\n",
    "    else:\n",
    "        raise ValueError(\"csv_input must be a file path (str) or pandas DataFrame\")\n",
    "\n",
    "    # Initialize the calendar\n",
    "    cal = Calendar()\n",
    "    cal.add('prodid', 'Max Roulstone')\n",
    "    cal.add('version', '2.0')\n",
    "\n",
    "    # Set timezone (assuming UTC; adjust if needed)\n",
    "    timezone = pytz.UTC\n",
    "\n",
    "    # Process each row in the DataFrame\n",
    "    for _, row in df.iterrows():\n",
    "        # Parse date and time\n",
    "        event_date = datetime.strptime(row['date'], '%Y-%m-%d')\n",
    "        start_time, end_time = row['time'].split('-')\n",
    "        start_dt = timezone.localize(datetime.strptime(f\"{row['date']} {start_time}\", '%Y-%m-%d %H:%M'))\n",
    "        end_dt = timezone.localize(datetime.strptime(f\"{row['date']} {end_time}\", '%Y-%m-%d %H:%M'))\n",
    "\n",
    "        # Create an event\n",
    "        event = Event()\n",
    "        event.add('dtstart', start_dt)\n",
    "        event.add('dtend', end_dt)\n",
    "        event.add('summary', f\"{row['class']} Session {row['session']}\")\n",
    "        event.add('location', row['room'])\n",
    "        event.add('description', f\"Group: {row['room']}, Tutor: {row['tutor']}\")\n",
    "        event.add('uid', f\"{start_dt.strftime('%Y%m%dT%H%M%S')}-{row['room']}@mr\")  # Unique ID\n",
    "\n",
    "        # Add event to calendar\n",
    "        cal.add_component(event)\n",
    "\n",
    "    # Write to ICS file\n",
    "    with open(output_file, 'wb') as f:\n",
    "        f.write(cal.to_ical())\n",
    "    print(f\"ICS file saved as {output_file}\")"
   ]
  },
  {
   "cell_type": "code",
   "execution_count": 54,
   "metadata": {},
   "outputs": [
    {
     "name": "stdout",
     "output_type": "stream",
     "text": [
      "ICS file saved as data/toby_schedule.ics\n"
     ]
    }
   ],
   "source": [
    "csv_to_ics(toby_sched, 'data/toby_schedule.ics')"
   ]
  }
 ],
 "metadata": {
  "kernelspec": {
   "display_name": ".venv",
   "language": "python",
   "name": "python3"
  },
  "language_info": {
   "codemirror_mode": {
    "name": "ipython",
    "version": 3
   },
   "file_extension": ".py",
   "mimetype": "text/x-python",
   "name": "python",
   "nbconvert_exporter": "python",
   "pygments_lexer": "ipython3",
   "version": "3.11.11"
  }
 },
 "nbformat": 4,
 "nbformat_minor": 2
}
